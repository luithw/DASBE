{
 "cells": [
  {
   "cell_type": "code",
   "execution_count": 1,
   "metadata": {},
   "outputs": [],
   "source": [
    "import torch\n",
    "import torch.nn as nn\n",
    "import torch.nn.functional as F\n",
    "from collections import deque\n",
    "import matplotlib.pyplot as plt\n",
    "import torchvision\n",
    "from tqdm.notebook import tqdm"
   ]
  },
  {
   "cell_type": "code",
   "execution_count": 2,
   "metadata": {},
   "outputs": [],
   "source": [
    "from dataset_utils import gain_dataset"
   ]
  },
  {
   "cell_type": "code",
   "execution_count": 3,
   "metadata": {},
   "outputs": [],
   "source": [
    "(\n",
    "    train_single_data,\n",
    "    train_multi_data,\n",
    "    test_data,\n",
    "    train_single_label,\n",
    "    train_multi_label,\n",
    "    test_label,\n",
    ") = gain_dataset(\"./tmp_data\", \"shapes\")"
   ]
  },
  {
   "cell_type": "code",
   "execution_count": 4,
   "metadata": {},
   "outputs": [
    {
     "data": {
      "image/png": "[encoded data removed]",
      "text/plain": [
       "<Figure size 2000x400 with 2 Axes>"
      ]
     },
     "metadata": {},
     "output_type": "display_data"
    }
   ],
   "source": [
    "# train_single_data\n",
    "fig, axes = plt.subplots(2, 1, figsize=(20, 4))\n",
    "\n",
    "ax = axes[0]\n",
    "img = torchvision.utils.make_grid(\n",
    "    torch.as_tensor(train_single_data)[:5].unsqueeze(1), nrow=5, pad_value=1\n",
    ")\n",
    "ax.imshow(img.permute(1, 2, 0))\n",
    "# remove frame\n",
    "ax.axis(\"off\")\n",
    "\n",
    "ax = axes[1]\n",
    "img = torchvision.utils.make_grid(\n",
    "    torch.as_tensor(train_single_label)[:5].unsqueeze(1), nrow=5, pad_value=1\n",
    ")\n",
    "ax.imshow(img.permute(1, 2, 0))\n",
    "# remove frame\n",
    "ax.axis(\"off\")\n",
    "\n",
    "plt.show()"
   ]
  },
  {
   "cell_type": "code",
   "execution_count": 5,
   "metadata": {},
   "outputs": [
    {
     "data": {
      "image/png": "[encoded data removed]",
      "text/plain": [
       "<Figure size 2000x400 with 2 Axes>"
      ]
     },
     "metadata": {},
     "output_type": "display_data"
    }
   ],
   "source": [
    "# train_multi_data\n",
    "fig, axes = plt.subplots(2, 1, figsize=(20, 4))\n",
    "\n",
    "ax = axes[0]\n",
    "img = torchvision.utils.make_grid(\n",
    "    torch.as_tensor(train_multi_data)[:5].unsqueeze(1), nrow=5, pad_value=1\n",
    ")\n",
    "ax.imshow(img.permute(1, 2, 0))\n",
    "# remove frame\n",
    "ax.axis(\"off\")\n",
    "\n",
    "ax = axes[1]\n",
    "img = torchvision.utils.make_grid(\n",
    "    torch.as_tensor(train_multi_label).div(3)[:5].unsqueeze(1), nrow=5, pad_value=1\n",
    ")\n",
    "ax.imshow(img.permute(1, 2, 0))\n",
    "# remove frame\n",
    "ax.axis(\"off\")\n",
    "\n",
    "plt.show()"
   ]
  },
  {
   "cell_type": "code",
   "execution_count": 6,
   "metadata": {},
   "outputs": [
    {
     "data": {
      "image/png": "[encoded data removed]",
      "text/plain": [
       "<Figure size 2000x400 with 2 Axes>"
      ]
     },
     "metadata": {},
     "output_type": "display_data"
    }
   ],
   "source": [
    "# train_multi_data\n",
    "fig, axes = plt.subplots(2, 1, figsize=(20, 4))\n",
    "\n",
    "ax = axes[0]\n",
    "img = torchvision.utils.make_grid(\n",
    "    torch.as_tensor(test_data)[:5].unsqueeze(1), nrow=5, pad_value=1\n",
    ")\n",
    "ax.imshow(img.permute(1, 2, 0))\n",
    "# remove frame\n",
    "ax.axis(\"off\")\n",
    "\n",
    "ax = axes[1]\n",
    "img = torchvision.utils.make_grid(\n",
    "    torch.as_tensor(test_label).div(3)[:5].unsqueeze(1), nrow=5, pad_value=1\n",
    ")\n",
    "ax.imshow(img.permute(1, 2, 0))\n",
    "# remove frame\n",
    "ax.axis(\"off\")\n",
    "\n",
    "plt.show()"
   ]
  },
  {
   "cell_type": "code",
   "execution_count": 7,
   "metadata": {},
   "outputs": [
    {
     "data": {
      "image/png": "[encoded data removed]",
      "text/plain": [
       "<Figure size 640x480 with 1 Axes>"
      ]
     },
     "metadata": {},
     "output_type": "display_data"
    }
   ],
   "source": [
    "square = torch.tensor(\n",
    "    [\n",
    "        [1, 1, 1, 1, 1, 1, 1],\n",
    "        [1, 1, 1, 1, 1, 1, 1],\n",
    "        [1, 1, 0, 0, 0, 1, 1],\n",
    "        [1, 1, 0, 0, 0, 1, 1],\n",
    "        [1, 1, 0, 0, 0, 1, 1],\n",
    "        [1, 1, 1, 1, 1, 1, 1],\n",
    "        [1, 1, 1, 1, 1, 1, 1],\n",
    "    ]\n",
    ")\n",
    "\n",
    "triangle = torch.tensor(\n",
    "    [\n",
    "        [0, 0, 0, 0, 0, 1, 1, 0, 0, 0, 0, 0],\n",
    "        [0, 0, 0, 0, 1, 1, 1, 1, 0, 0, 0, 0],\n",
    "        [0, 0, 0, 1, 1, 1, 1, 1, 1, 0, 0, 0],\n",
    "        [0, 0, 1, 1, 1, 0, 0, 1, 1, 1, 0, 0],\n",
    "        [0, 1, 1, 1, 0, 0, 0, 0, 1, 1, 1, 0],\n",
    "        [1, 1, 1, 1, 1, 1, 1, 1, 1, 1, 1, 1],\n",
    "        [1, 1, 1, 1, 1, 1, 1, 1, 1, 1, 1, 1],\n",
    "    ]\n",
    ")\n",
    "\n",
    "shapes = [square, triangle, triangle.flip(dims=(0,)).clone()]\n",
    "class_names = [\"square\", \"triangle\", \"inverted-triangle\"]\n",
    "\n",
    "\n",
    "def generate_shapes_image(width, height, nr_shapes=2):\n",
    "    img = torch.zeros(height, width)\n",
    "    cluster = torch.zeros(nr_shapes, height, width)\n",
    "    target = torch.randint(0, len(shapes), (nr_shapes,))\n",
    "\n",
    "    for i in range(nr_shapes):\n",
    "        shape_idx = target[i]\n",
    "        shape = shapes[shape_idx]\n",
    "        sy, sx = shape.shape\n",
    "        x = torch.randint(0, width - sx + 1, ())\n",
    "        y = torch.randint(0, height - sy + 1, ())\n",
    "        region = (slice(y, y + sy), slice(x, x + sx))\n",
    "        img[region] += shape\n",
    "        cluster[i][region] += shape\n",
    "\n",
    "    img = img.clamp_max_(1)\n",
    "    return img, cluster, target\n",
    "\n",
    "\n",
    "plt.imshow(generate_shapes_image(28, 28, 2)[0], cmap=\"gray\")\n",
    "plt.axis(\"off\")\n",
    "plt.show()"
   ]
  },
  {
   "cell_type": "code",
   "execution_count": 8,
   "metadata": {},
   "outputs": [],
   "source": [
    "def rand_context_like(tensor):\n",
    "    return torch.randn_like(tensor).abs()\n",
    "\n",
    "\n",
    "def random_mask_like(tensor, p):\n",
    "    return torch.empty_like(tensor).bernoulli_(p)\n",
    "\n",
    "\n",
    "def flatten(intput):\n",
    "    return intput.view(intput.size(0), -1)"
   ]
  },
  {
   "cell_type": "code",
   "execution_count": 9,
   "metadata": {},
   "outputs": [],
   "source": [
    "def match_any_loss(logits, targets):\n",
    "    \"\"\"\n",
    "    Forces the network to predict any one (but only one) of the targets.\n",
    "    It picks the class that is already most similar to the target.\n",
    "\n",
    "    Args:\n",
    "        logits: (N, C)\n",
    "        targets: (N, n) where n is the number of targets per sample\n",
    "    \"\"\"\n",
    "    with torch.no_grad():\n",
    "        candidates = torch.gather(logits, dim=1, index=targets)\n",
    "        indices = torch.argmax(candidates, dim=1, keepdim=True)\n",
    "        most_likely = torch.gather(targets, dim=1, index=indices)\n",
    "        most_likely.squeeze_(dim=1)\n",
    "\n",
    "    return F.cross_entropy(logits, most_likely)"
   ]
  },
  {
   "cell_type": "code",
   "execution_count": 10,
   "metadata": {},
   "outputs": [],
   "source": [
    "def match_cluster_loss(logits, clusters):\n",
    "    with torch.no_grad():\n",
    "        similarities = torch.bmm(\n",
    "            logits.unsqueeze(1), clusters.transpose(-1, -2)\n",
    "        ).squeeze(1)\n",
    "        max_similar = torch.argmax(similarities, dim=1)\n",
    "        targets = clusters[torch.arange(logits.size(0)), max_similar]\n",
    "\n",
    "    # im = torchvision.utils.make_grid(\n",
    "    #     [logits[0].detach().view(1, 28, 28), targets[0].detach().view(1, 28, 28)]\n",
    "    # )\n",
    "    # plt.imshow(im.permute(1, 2, 0), cmap=\"gray\")\n",
    "\n",
    "    return torch.pow(logits - targets, 2).sum()"
   ]
  },
  {
   "cell_type": "code",
   "execution_count": 11,
   "metadata": {},
   "outputs": [],
   "source": [
    "class Model(nn.Module):\n",
    "    def __init__(self, features: int, num_classes: int) -> None:\n",
    "        super().__init__()\n",
    "\n",
    "        self.encoder = nn.Sequential(\n",
    "            nn.Linear(features, 512), \n",
    "            nn.ReLU(), \n",
    "            nn.Linear(512, 400), \n",
    "            nn.ReLU(),\n",
    "        )\n",
    "\n",
    "        self.decoder = nn.Sequential(\n",
    "            nn.Linear(400, 512), \n",
    "            nn.ReLU(), \n",
    "            nn.Linear(512, features), \n",
    "            nn.Sigmoid(),\n",
    "        )\n",
    "\n",
    "        self.classify = nn.Linear(400, num_classes)\n",
    "\n",
    "    def forward(self, inputs):\n",
    "        encoded = self.encoder(inputs)\n",
    "        decoded = self.decoder(encoded)\n",
    "        logits = self.classify(encoded)\n",
    "        return decoded, encoded, logits"
   ]
  },
  {
   "cell_type": "code",
   "execution_count": 12,
   "metadata": {},
   "outputs": [],
   "source": [
    "W = 28\n",
    "H = 28\n",
    "data = [generate_shapes_image(W, H, 2) for _ in range(50000)]"
   ]
  },
  {
   "cell_type": "code",
   "execution_count": 21,
   "metadata": {},
   "outputs": [
    {
     "data": {
      "application/vnd.jupyter.widget-view+json": {
       "model_id": "eaec70d98a034b49a6f2093b23352456",
       "version_major": 2,
       "version_minor": 0
      },
      "text/plain": [
       "  0%|          | 0/391 [00:00<?, ?it/s]"
      ]
     },
     "metadata": {},
     "output_type": "display_data"
    },
    {
     "name": "stdout",
     "output_type": "stream",
     "text": [
      "Epoch 0 loss: 150.36079287711922\n"
     ]
    },
    {
     "data": {
      "application/vnd.jupyter.widget-view+json": {
       "model_id": "e5dc123c9fd644b09c067cbaed7db0ce",
       "version_major": 2,
       "version_minor": 0
      },
      "text/plain": [
       "  0%|          | 0/391 [00:00<?, ?it/s]"
      ]
     },
     "metadata": {},
     "output_type": "display_data"
    },
    {
     "name": "stdout",
     "output_type": "stream",
     "text": [
      "Epoch 1 loss: 111.45987892638692\n"
     ]
    },
    {
     "data": {
      "application/vnd.jupyter.widget-view+json": {
       "model_id": "4f41c28943454a6ebf8a1e6337354977",
       "version_major": 2,
       "version_minor": 0
      },
      "text/plain": [
       "  0%|          | 0/391 [00:00<?, ?it/s]"
      ]
     },
     "metadata": {},
     "output_type": "display_data"
    },
    {
     "name": "stdout",
     "output_type": "stream",
     "text": [
      "Epoch 2 loss: 95.73413958147054\n"
     ]
    },
    {
     "data": {
      "application/vnd.jupyter.widget-view+json": {
       "model_id": "299c3e071e5146289c1c0e50e9fcc535",
       "version_major": 2,
       "version_minor": 0
      },
      "text/plain": [
       "  0%|          | 0/391 [00:00<?, ?it/s]"
      ]
     },
     "metadata": {},
     "output_type": "display_data"
    },
    {
     "name": "stdout",
     "output_type": "stream",
     "text": [
      "Epoch 3 loss: 87.51148098996838\n"
     ]
    },
    {
     "data": {
      "application/vnd.jupyter.widget-view+json": {
       "model_id": "f141c92830fa4adabd343ad57d3254cf",
       "version_major": 2,
       "version_minor": 0
      },
      "text/plain": [
       "  0%|          | 0/391 [00:00<?, ?it/s]"
      ]
     },
     "metadata": {},
     "output_type": "display_data"
    },
    {
     "name": "stdout",
     "output_type": "stream",
     "text": [
      "Epoch 4 loss: 78.05429789355344\n"
     ]
    },
    {
     "data": {
      "application/vnd.jupyter.widget-view+json": {
       "model_id": "f1e43fffab1a45da8b1289893339384f",
       "version_major": 2,
       "version_minor": 0
      },
      "text/plain": [
       "  0%|          | 0/391 [00:00<?, ?it/s]"
      ]
     },
     "metadata": {},
     "output_type": "display_data"
    },
    {
     "name": "stdout",
     "output_type": "stream",
     "text": [
      "Epoch 5 loss: 70.83565665632868\n"
     ]
    },
    {
     "data": {
      "application/vnd.jupyter.widget-view+json": {
       "model_id": "7008eb5ae75a4ce4bac74c47fed1b010",
       "version_major": 2,
       "version_minor": 0
      },
      "text/plain": [
       "  0%|          | 0/391 [00:00<?, ?it/s]"
      ]
     },
     "metadata": {},
     "output_type": "display_data"
    },
    {
     "name": "stdout",
     "output_type": "stream",
     "text": [
      "Epoch 6 loss: 65.66018131382936\n"
     ]
    },
    {
     "data": {
      "application/vnd.jupyter.widget-view+json": {
       "model_id": "fdc7eca97e0b40a79d793b0e7221efa8",
       "version_major": 2,
       "version_minor": 0
      },
      "text/plain": [
       "  0%|          | 0/391 [00:00<?, ?it/s]"
      ]
     },
     "metadata": {},
     "output_type": "display_data"
    },
    {
     "name": "stdout",
     "output_type": "stream",
     "text": [
      "Epoch 7 loss: 61.455911192442755\n"
     ]
    },
    {
     "data": {
      "application/vnd.jupyter.widget-view+json": {
       "model_id": "3bdb98333dfb4106ad64630079609ed0",
       "version_major": 2,
       "version_minor": 0
      },
      "text/plain": [
       "  0%|          | 0/391 [00:00<?, ?it/s]"
      ]
     },
     "metadata": {},
     "output_type": "display_data"
    },
    {
     "name": "stdout",
     "output_type": "stream",
     "text": [
      "Epoch 8 loss: 58.657496557211324\n"
     ]
    },
    {
     "data": {
      "application/vnd.jupyter.widget-view+json": {
       "model_id": "246de11f41db40d9b12225089618f1a5",
       "version_major": 2,
       "version_minor": 0
      },
      "text/plain": [
       "  0%|          | 0/391 [00:00<?, ?it/s]"
      ]
     },
     "metadata": {},
     "output_type": "display_data"
    },
    {
     "name": "stdout",
     "output_type": "stream",
     "text": [
      "Epoch 9 loss: 56.061793266354925\n"
     ]
    }
   ],
   "source": [
    "model = Model(784, len(class_names))\n",
    "optimizer = torch.optim.SGD(model.parameters(), lr=0.01, momentum=0.9)\n",
    "\n",
    "batch_size = 128\n",
    "cortical_delay = 8\n",
    "iterations = 3\n",
    "s_refractory = 4\n",
    "\n",
    "dataloader = torch.utils.data.DataLoader(data, batch_size=batch_size, shuffle=True)\n",
    "\n",
    "for epoch_idx in range(10):\n",
    "    epoch_loss = 0\n",
    "\n",
    "    for inputs, clusters, targets in tqdm(dataloader):\n",
    "        s_queue = deque([torch.zeros_like(inputs) for _ in range(3)], maxlen=3)\n",
    "        in_refactory = torch.zeros_like(inputs)\n",
    "        context_queue = deque(\n",
    "            [rand_context_like(inputs) for _ in range(cortical_delay)],\n",
    "            maxlen=cortical_delay,\n",
    "        )\n",
    "\n",
    "        loss = 0\n",
    "\n",
    "        for _ in range(iterations * cortical_delay):\n",
    "            in_refactory -= 1\n",
    "\n",
    "            context_input = context_queue.popleft()\n",
    "            activity = inputs * context_input\n",
    "\n",
    "            # maybe should also add some sort of dropout here\n",
    "            refactory_mask = (in_refactory < 0).float()\n",
    "\n",
    "            activity = activity * refactory_mask\n",
    "            # update refractory period for the neurons that spiked\n",
    "            in_refactory[activity > 0.5] = s_refractory\n",
    "\n",
    "            # accumulate all spikes over the last 3 time steps\n",
    "            s_queue.append(activity)\n",
    "            accumulate_input = torch.stack(tuple(s_queue), dim=0).sum(dim=0)\n",
    "            # accumulate_input = inputs\n",
    "\n",
    "            # feed the accumulated spikes to the denoising autoencoder\n",
    "            # returns the denoised outputs and the latent variables\n",
    "            output, encoding, logits = model(flatten(accumulate_input))\n",
    "\n",
    "            for i in range(1, len(s_queue)):\n",
    "                # randomly \"forget\" half of the spikes\n",
    "                s_queue[i] *= random_mask_like(inputs, p=0.5)\n",
    "\n",
    "            context_queue.append(output.view(inputs.shape))\n",
    "\n",
    "            loss = loss + match_any_loss(logits, targets)\n",
    "            loss = loss + match_cluster_loss(output, clusters.flatten(start_dim=-2)) / 1000\n",
    "\n",
    "        optimizer.zero_grad()\n",
    "        loss.backward()\n",
    "        optimizer.step()\n",
    "        epoch_loss += loss.item()\n",
    "\n",
    "    print(f\"Epoch {epoch_idx} loss: {epoch_loss / len(dataloader)}\")"
   ]
  },
  {
   "cell_type": "code",
   "execution_count": 31,
   "metadata": {},
   "outputs": [
    {
     "name": "stdout",
     "output_type": "stream",
     "text": [
      "tensor([1, 0, 2, 2, 1, 2, 1, 2, 2, 0])\n",
      "tensor([[1, 2],\n",
      "        [0, 1],\n",
      "        [0, 1],\n",
      "        [0, 1],\n",
      "        [1, 0],\n",
      "        [2, 1],\n",
      "        [1, 1],\n",
      "        [2, 2],\n",
      "        [0, 2],\n",
      "        [0, 0]])\n",
      "tensor(0.8000)\n",
      "tensor([1, 0, 2, 2, 1, 2, 1, 2, 2, 0])\n",
      "tensor([[1, 2],\n",
      "        [0, 1],\n",
      "        [0, 1],\n",
      "        [0, 1],\n",
      "        [1, 0],\n",
      "        [2, 1],\n",
      "        [1, 1],\n",
      "        [2, 2],\n",
      "        [0, 2],\n",
      "        [0, 0]])\n",
      "tensor(0.8000)\n",
      "tensor([1, 0, 1, 2, 1, 2, 1, 2, 2, 0])\n",
      "tensor([[1, 2],\n",
      "        [0, 1],\n",
      "        [0, 1],\n",
      "        [0, 1],\n",
      "        [1, 0],\n",
      "        [2, 1],\n",
      "        [1, 1],\n",
      "        [2, 2],\n",
      "        [0, 2],\n",
      "        [0, 0]])\n",
      "tensor(0.9000)\n",
      "tensor([0, 0, 2, 2, 1, 2, 2, 2, 0, 0])\n",
      "tensor([[1, 2],\n",
      "        [0, 1],\n",
      "        [0, 1],\n",
      "        [0, 1],\n",
      "        [1, 0],\n",
      "        [2, 1],\n",
      "        [1, 1],\n",
      "        [2, 2],\n",
      "        [0, 2],\n",
      "        [0, 0]])\n",
      "tensor(0.6000)\n",
      "tensor([0, 0, 1, 0, 2, 1, 2, 2, 0, 0])\n",
      "tensor([[1, 2],\n",
      "        [0, 1],\n",
      "        [0, 1],\n",
      "        [0, 1],\n",
      "        [1, 0],\n",
      "        [2, 1],\n",
      "        [1, 1],\n",
      "        [2, 2],\n",
      "        [0, 2],\n",
      "        [0, 0]])\n",
      "tensor(0.7000)\n",
      "tensor([1, 0, 2, 2, 2, 1, 1, 2, 2, 0])\n",
      "tensor([[1, 2],\n",
      "        [0, 1],\n",
      "        [0, 1],\n",
      "        [0, 1],\n",
      "        [1, 0],\n",
      "        [2, 1],\n",
      "        [1, 1],\n",
      "        [2, 2],\n",
      "        [0, 2],\n",
      "        [0, 0]])\n",
      "tensor(0.7000)\n",
      "tensor([1, 0, 2, 0, 1, 2, 1, 2, 2, 0])\n",
      "tensor([[1, 2],\n",
      "        [0, 1],\n",
      "        [0, 1],\n",
      "        [0, 1],\n",
      "        [1, 0],\n",
      "        [2, 1],\n",
      "        [1, 1],\n",
      "        [2, 2],\n",
      "        [0, 2],\n",
      "        [0, 0]])\n",
      "tensor(0.9000)\n",
      "tensor([1, 0, 1, 2, 1, 2, 1, 2, 2, 0])\n",
      "tensor([[1, 2],\n",
      "        [0, 1],\n",
      "        [0, 1],\n",
      "        [0, 1],\n",
      "        [1, 0],\n",
      "        [2, 1],\n",
      "        [1, 1],\n",
      "        [2, 2],\n",
      "        [0, 2],\n",
      "        [0, 0]])\n",
      "tensor(0.9000)\n"
     ]
    },
    {
     "data": {
      "image/png": "[encoded data removed]",
      "text/plain": [
       "<Figure size 640x480 with 5 Axes>"
      ]
     },
     "metadata": {},
     "output_type": "display_data"
    }
   ],
   "source": [
    "fig, axes = plt.subplots(1, 5)\n",
    "\n",
    "test_data = [generate_shapes_image(W, H, 2) for _ in range(10)]\n",
    "inputs = torch.stack([x[0] for x in test_data])\n",
    "targets = torch.stack([x[2] for x in test_data])\n",
    "\n",
    "s_queue = deque([torch.zeros_like(inputs) for _ in range(3)], maxlen=3)\n",
    "in_refactory = torch.zeros_like(inputs)\n",
    "context_queue = deque(\n",
    "    [rand_context_like(inputs) for _ in range(cortical_delay)], maxlen=cortical_delay\n",
    ")\n",
    "\n",
    "for _ in range(cortical_delay):\n",
    "    in_refactory -= 1\n",
    "\n",
    "    context_input = context_queue.popleft()\n",
    "    activity = inputs * context_input\n",
    "\n",
    "    # maybe should also add some sort of dropout here\n",
    "    refactory_mask = (in_refactory < 0).float()\n",
    "\n",
    "    activity = activity * refactory_mask\n",
    "    # update refractory period for the neurons that spiked\n",
    "    in_refactory[activity > 0.5] = s_refractory\n",
    "\n",
    "    # accumulate all spikes over the last 3 time steps\n",
    "    s_queue.append(activity)\n",
    "    accumulate_input = torch.stack(tuple(s_queue), dim=0).sum(dim=0)\n",
    "\n",
    "    # feed the accumulated spikes to the denoising autoencoder\n",
    "    # returns the denoised outputs and the latent variables\n",
    "    output, encoding, logits = model(flatten(accumulate_input))\n",
    "\n",
    "    for i in range(1, len(s_queue)):\n",
    "        # randomly \"forget\" half of the spikes\n",
    "        s_queue[i] *= random_mask_like(inputs, p=0.5)\n",
    "\n",
    "    context_queue.append(output.view(inputs.shape))\n",
    "\n",
    "    loss = loss + match_any_loss(logits, targets)\n",
    "\n",
    "    pred = logits.argmax(dim=1)\n",
    "    print(pred)\n",
    "    print(targets)\n",
    "    # 1 if pred is in targets on the 1st dimension\n",
    "    print((pred.unsqueeze(1) == targets).any(dim=1).sum() / len(pred))\n",
    "\n",
    "i = 3\n",
    "axes[0].imshow(inputs[i].detach().numpy(), cmap=\"gray\")\n",
    "axes[1].imshow(activity[i].detach().numpy(), cmap=\"gray\")\n",
    "axes[2].imshow(accumulate_input[i].detach().numpy(), cmap=\"gray\")\n",
    "axes[3].imshow(output.view(inputs.shape)[i].detach().numpy(), cmap=\"gray\")\n",
    "axes[4].imshow(in_refactory[i].detach().numpy(), cmap=\"gray\")\n",
    "axes[0].axis(\"off\")\n",
    "axes[1].axis(\"off\")\n",
    "axes[2].axis(\"off\")\n",
    "axes[3].axis(\"off\")\n",
    "axes[4].axis(\"off\")\n",
    "\n",
    "plt.show()"
   ]
  },
  {
   "cell_type": "code",
   "execution_count": null,
   "metadata": {},
   "outputs": [],
   "source": []
  }
 ],
 "metadata": {
  "kernelspec": {
   "display_name": "torch",
   "language": "python",
   "name": "python3"
  },
  "language_info": {
   "codemirror_mode": {
    "name": "ipython",
    "version": 3
   },
   "file_extension": ".py",
   "mimetype": "text/x-python",
   "name": "python",
   "nbconvert_exporter": "python",
   "pygments_lexer": "ipython3",
   "version": "3.10.10"
  },
  "orig_nbformat": 4
 },
 "nbformat": 4,
 "nbformat_minor": 2
}
